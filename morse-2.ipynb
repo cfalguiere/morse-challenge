{
 "cells": [
  {
   "cell_type": "code",
   "execution_count": null,
   "id": "loving-fence",
   "metadata": {},
   "outputs": [],
   "source": [
    "# morse alphabet"
   ]
  },
  {
   "cell_type": "code",
   "execution_count": null,
   "id": "lesbian-decision",
   "metadata": {},
   "outputs": [],
   "source": [
    "alphabet = '''A  .- \t B  -... \t C  -.-. \t D  -..\n",
    " E  . \t F  ..-. \t G  --. \t H  ....\n",
    " I  .. \t J  .--- \t K  -.- \t L  .-..\n",
    " M  -- \t N  -. \t O  --- \t P  .--.\n",
    " Q  --.- \t R  .-. \t S  ... \t T  -\n",
    " U  ..- \t V  ...- \t W  .-- \t X  -..-\n",
    " Y  -.-- \t Z  --..'''"
   ]
  },
  {
   "cell_type": "code",
   "execution_count": null,
   "id": "physical-swiss",
   "metadata": {},
   "outputs": [],
   "source": [
    "def generate_alphabet_map():\n",
    "    key = None\n",
    "    alphabet_map = {}\n",
    "    for value in alphabet.split():\n",
    "        if not key is None:\n",
    "            alphabet_map[key] = value\n",
    "            key = None\n",
    "        else:\n",
    "            key = value  \n",
    "    return alphabet_map"
   ]
  },
  {
   "cell_type": "code",
   "execution_count": null,
   "id": "iraqi-archives",
   "metadata": {},
   "outputs": [],
   "source": [
    "alphabet_map = generate_alphabet_map()\n",
    "key = 'D'\n",
    "print(f'{key} {alphabet_map[key]}')\n",
    "assert alphabet_map[key] == '-..'"
   ]
  },
  {
   "cell_type": "code",
   "execution_count": null,
   "id": "official-xerox",
   "metadata": {},
   "outputs": [],
   "source": [
    "reverse_alphabet_map = { v: k for k, v in alphabet_map.items()}\n",
    "key = '-..'\n",
    "print(f'{key} {reverse_alphabet_map[key]}')\n",
    "assert reverse_alphabet_map[key] == 'D'"
   ]
  },
  {
   "cell_type": "code",
   "execution_count": null,
   "id": "moderate-registration",
   "metadata": {},
   "outputs": [],
   "source": [
    "morse_alphabet = alphabet_map.values()\n",
    "morse_alphabet"
   ]
  },
  {
   "cell_type": "markdown",
   "id": "impaired-briefs",
   "metadata": {},
   "source": [
    "# alphabet permutations"
   ]
  },
  {
   "cell_type": "code",
   "execution_count": null,
   "id": "protected-education",
   "metadata": {},
   "outputs": [],
   "source": [
    "'''\n",
    "A  .- | . -\n",
    "B  -... | -.. . | -. .. | -. . . | - . .. | - . . . | - .. . | - ...\n",
    "C  -.-. | -.- . | -. -. | -. - . | - .-. | - .- . | - . -. | - . - .\n",
    "D  -.. | -. . | - .. | - . .\n",
    "E  . \n",
    "F  ..-. | ..- . | .. -. | . . -. | . .-. | . . - .\n",
    "G  --. | -- . | - -. | - - .\n",
    "H  .... | ... . | .. .. | . ... | .. . . | . . .. | . . . .\n",
    "I  .. | . .\n",
    "J  .--- | .-- - | .- -- | .- - - | . --- | . -- - | . - -- | . - - -\n",
    "K  -.- | -. - | - .- | - . -\n",
    "L  .-.. | .-. . | .- .. | .- . . | . -.. | . -. . | . - .. | . - . .\n",
    "M  -- | - -\n",
    "N  -. | - .\n",
    "O  --- | -- - | - -- | - - -\n",
    "P  .--. | .-- . | .- -. | .- - . | . --. | . -- . | . - -. | . - - .\n",
    "Q  --.- | --. - | -- .- | -- . - | - -.- | - -. - | - - .- | - - . -\n",
    "R  .-. | .- . | . -.\n",
    "S  ... | .. . | . ..\n",
    "T  -\n",
    "U  ..- | .. - | . .- | . . -\n",
    "V  ...- | ... - | .. .- | .. . - | . ..- | . .. - | . . .- | . . . -\n",
    "W  .-- | .- - | . -- | . - - \n",
    "X  -..- | -.. - | -. .- | -. . - | - ..- | - .. - | - . .- | - . . -\n",
    "Y  -.-- | -.- - | -. -- | -. - - | - .-- | - .- - | - . -- | - . - -\n",
    "Z  --.. | --. . | -- .. | -- . . | - -.. | - -. . | - - .. | - - . .\n",
    "'''"
   ]
  },
  {
   "cell_type": "markdown",
   "id": "valuable-target",
   "metadata": {},
   "source": [
    "# build sentence"
   ]
  },
  {
   "cell_type": "code",
   "execution_count": null,
   "id": "supposed-classification",
   "metadata": {},
   "outputs": [],
   "source": [
    "morse_sentence = '......-...-..---.-----.-..-..-..'"
   ]
  },
  {
   "cell_type": "markdown",
   "id": "daily-craft",
   "metadata": {},
   "source": [
    "# build words"
   ]
  },
  {
   "cell_type": "code",
   "execution_count": null,
   "id": "dying-indiana",
   "metadata": {},
   "outputs": [],
   "source": [
    "words = ['HELL', 'HELLO', 'WORLD', 'OWORLD', 'TEST']"
   ]
  },
  {
   "cell_type": "code",
   "execution_count": null,
   "id": "corresponding-quebec",
   "metadata": {},
   "outputs": [],
   "source": [
    "def encode_word(word):\n",
    "    encoded_word = ''.join([alphabet_map[letter] for letter in word])\n",
    "    return encoded_word"
   ]
  },
  {
   "cell_type": "code",
   "execution_count": null,
   "id": "informational-chair",
   "metadata": {},
   "outputs": [],
   "source": [
    "word_translator = {encode_word(word):word for word in words}\n",
    "word_translator"
   ]
  },
  {
   "cell_type": "code",
   "execution_count": null,
   "id": "moderate-astrology",
   "metadata": {},
   "outputs": [],
   "source": [
    "encoded_word_translator_map = {}\n",
    "def generate_word_translator(word, sep=''):\n",
    "    letters = []\n",
    "    for letter in word: letters.append(alphabet_map[letter])\n",
    "    encoded_word = sep.join(letters)\n",
    "    encoded_word_translator_map[encoded_word] = word\n",
    "    \n",
    "[generate_word_translator(w) for w in words]\n",
    "encoded_word_translator_map"
   ]
  },
  {
   "cell_type": "code",
   "execution_count": null,
   "id": "competitive-bunny",
   "metadata": {},
   "outputs": [],
   "source": [
    "encoded_word_counts_map = {}\n",
    "def generate_word_count(word, sep=''):\n",
    "    letters = []\n",
    "    for letter in word: letters.append(alphabet_map[letter])\n",
    "    encoded_word = sep.join(letters)\n",
    "    if encoded_word in encoded_word_counts_map: encoded_word_counts_map[encoded_word] += 1\n",
    "    else: encoded_word_counts_map[encoded_word] = 1\n",
    "    \n",
    "[generate_word_count(w) for w in words]\n",
    "encoded_word_counts_map"
   ]
  },
  {
   "cell_type": "code",
   "execution_count": null,
   "id": "finite-stock",
   "metadata": {},
   "outputs": [],
   "source": [
    "encoded_word_sizes_map = {word:len(word) for word in encoded_word_counts_map.keys()}\n",
    "encoded_word_sizes_map"
   ]
  },
  {
   "cell_type": "code",
   "execution_count": null,
   "id": "expanded-mileage",
   "metadata": {},
   "outputs": [],
   "source": [
    "morse_words = list(encoded_word_counts_map.keys())\n",
    "morse_words"
   ]
  },
  {
   "cell_type": "markdown",
   "id": "fresh-exemption",
   "metadata": {},
   "source": [
    "# decode words"
   ]
  },
  {
   "cell_type": "code",
   "execution_count": null,
   "id": "fresh-auckland",
   "metadata": {},
   "outputs": [],
   "source": [
    "def decode_words_test(level, current_sentence, remaining):\n",
    "    if not remaining:\n",
    "        print(f'== {level} {current_sentence}')\n",
    "        return 1\n",
    "     \n",
    "    nb_options = 0 \n",
    "    for word, duplicates in encoded_word_counts_map.items():\n",
    "        if remaining.startswith(word):\n",
    "            print(f'{level} {current_sentence} + {word}, {duplicates}')\n",
    "            new_sentence = current_sentence.copy()\n",
    "            new_sentence.append(word)\n",
    "            i = encoded_word_sizes_map[word]\n",
    "            new_remaining = str(remaining[i:])\n",
    "            nb_options += decode_words_test(level+1, new_sentence, new_remaining) * duplicates\n",
    "                \n",
    "    return nb_options"
   ]
  },
  {
   "cell_type": "code",
   "execution_count": null,
   "id": "ordinary-dynamics",
   "metadata": {},
   "outputs": [],
   "source": [
    "morse_sentence = '......-...-..---.-----.-..-..-..' # HELLOWORLD\n",
    "words = ['HELL', 'HELLO', 'WORLD', 'OWORLD', 'TEST']\n",
    "encoded_word_counts_map = {}\n",
    "[generate_word_count(w) for w in words]\n",
    "encoded_word_sizes_map = {word:len(word) for word in encoded_word_counts_map.keys()}\n",
    "\n",
    "res = decode_words_test(0, [], morse_sentence)\n",
    "print(res)\n",
    "assert res == 2 # HELLO WORLD, HELL OWORLD"
   ]
  },
  {
   "cell_type": "code",
   "execution_count": null,
   "id": "everyday-announcement",
   "metadata": {},
   "outputs": [],
   "source": [
    "morse_sentence = '......-...-..---' # HELLO\n",
    "words = ['HELL', 'HELLO', 'WORLD', 'OWORLD', 'TEST', 'HE', 'EH', 'L', 'O'] \n",
    "encoded_word_counts_map = {}\n",
    "[generate_word_count(w) for w in words]\n",
    "encoded_word_sizes_map = {word:len(word) for word in encoded_word_counts_map.keys()}\n",
    "\n",
    "res = decode_words_test(0, [], morse_sentence)\n",
    "print(res)\n",
    "assert res == 4 # HELLO, HELL O, HE L L O, EH L L O"
   ]
  },
  {
   "cell_type": "code",
   "execution_count": null,
   "id": "certified-airfare",
   "metadata": {},
   "outputs": [],
   "source": [
    "morse_sentence = '......-...-..---' # HELLO\n",
    "words = ['HELL', 'TEST'] \n",
    "encoded_word_counts_map = {}\n",
    "[generate_word_count(w) for w in words]\n",
    "encoded_word_sizes_map = {word:len(word) for word in encoded_word_counts_map.keys()}\n",
    "\n",
    "res = decode_words_test(0, [], morse_sentence)\n",
    "print(res)\n",
    "assert res == 0 # no match"
   ]
  },
  {
   "cell_type": "code",
   "execution_count": null,
   "id": "social-hostel",
   "metadata": {},
   "outputs": [],
   "source": [
    "morse_sentence = '......-..' # HEL  fix HE L hide HEL\n",
    "words = ['HEL', 'HE', 'EH', 'L', 'O'] \n",
    "encoded_word_counts_map = {}\n",
    "[generate_word_count(w) for w in words]\n",
    "encoded_word_sizes_map = {word:len(word) for word in encoded_word_counts_map.keys()}\n",
    "\n",
    "res = decode_words_test(0, [], morse_sentence)\n",
    "print(res)\n",
    "assert res == 3 # HEL, HE L, EH L"
   ]
  },
  {
   "cell_type": "code",
   "execution_count": null,
   "id": "amended-recycling",
   "metadata": {},
   "outputs": [],
   "source": [
    "morse_sentence = '......-..' # HEL  fix HE L hide HEL\n",
    "words = ['HEL', 'HE', 'L', 'O'] \n",
    "encoded_word_counts_map = {}\n",
    "[generate_word_count(w) for w in words]\n",
    "encoded_word_sizes_map = {word:len(word) for word in encoded_word_counts_map.keys()}\n",
    "\n",
    "res = decode_words_test(0, [], morse_sentence)\n",
    "print(res)\n",
    "assert res == 2 # HEL, HE L"
   ]
  },
  {
   "cell_type": "markdown",
   "id": "creative-local",
   "metadata": {},
   "source": [
    "# decode letters"
   ]
  },
  {
   "cell_type": "code",
   "execution_count": null,
   "id": "mechanical-rainbow",
   "metadata": {},
   "outputs": [],
   "source": [
    "def decode_letters_test(level, current_sentence, remaining):\n",
    "    def translate(word): return ''.join([reverse_alphabet_map[l] for l in word.split('|')])\n",
    "    words = [translate(word) for word in current_sentence]\n",
    "    key = ' '.join(words)\n",
    "\n",
    "    if not remaining:\n",
    "        print(f'{key} == {level} {current_sentence}')\n",
    "        return 1 \n",
    "     \n",
    "    nb_options = 0 \n",
    "    for encoded_letter in morse_alphabet:\n",
    "        if remaining.startswith(encoded_letter):\n",
    "            print(f'{key} {level} {current_sentence} + {encoded_letter}')\n",
    "            new_sentence = current_sentence.copy()\n",
    "            new_sentence.append(encoded_letter)\n",
    "            i = len(encoded_letter)\n",
    "            new_remaining = str(remaining[i:])\n",
    "            nb_options += decode_letters_test(level+1, new_sentence, new_remaining)\n",
    "                \n",
    "    return nb_options                "
   ]
  },
  {
   "cell_type": "code",
   "execution_count": null,
   "id": "distinct-finland",
   "metadata": {},
   "outputs": [],
   "source": [
    "morse_sentence = '....' # E . I .. S ... H ....\n",
    "words = ['EEEE', 'II', 'SE', 'ES', 'H', 'L', 'O'] \n",
    "encoded_word_counts_map = {}\n",
    "[generate_word_count(w) for w in words]\n",
    "encoded_word_sizes_map = {word:len(word) for word in encoded_word_counts_map.keys()}\n",
    "\n",
    "res = decode_letters_test(0, [], morse_sentence)\n",
    "print(res)\n",
    "assert res == 8 # EEEE, EEI, EIE, ES, H, IEE, II, SE "
   ]
  },
  {
   "cell_type": "markdown",
   "id": "thick-maple",
   "metadata": {},
   "source": [
    "# decode list of letters"
   ]
  },
  {
   "cell_type": "code",
   "execution_count": null,
   "id": "bored-hunger",
   "metadata": {},
   "outputs": [],
   "source": [
    "# confusion HEL HE L\n",
    "def decode_words_old(level, current_sentence, current_word, remaining):\n",
    "    if not remaining:\n",
    "        print(f'====> {level} {current_sentence}')\n",
    "        return 1 if not current_word else 0\n",
    "     \n",
    "    nb_options = 0 \n",
    "    new_letter = remaining[0]\n",
    "    new_word = current_word.copy()\n",
    "    new_word.append(new_letter)\n",
    "    word = '|'.join(new_word)\n",
    "    if word in encoded_word_counts_map:\n",
    "        print(f'{level} {current_sentence} -> found {word}')\n",
    "        new_sentence = current_sentence.copy()\n",
    "        new_sentence.append(word)\n",
    "        new_remaining = remaining.copy()\n",
    "        nb_options += decode_words(level+1, new_sentence, [], new_remaining[1:]) * encoded_word_counts_map[word]\n",
    "    else:\n",
    "        print(f'{level} {current_sentence} + {new_word}')\n",
    "        new_remaining = remaining.copy()\n",
    "        nb_options += decode_words_old(level+1, current_sentence, new_word, new_remaining[1:]) \n",
    "                 \n",
    "    return nb_options"
   ]
  },
  {
   "cell_type": "code",
   "execution_count": null,
   "id": "conceptual-intent",
   "metadata": {},
   "outputs": [],
   "source": [
    "def decode_words(level, current_sentence, current_word, remaining):\n",
    "    if not remaining:\n",
    "        print(f'====> {level} {current_sentence}')\n",
    "        return 1 if not current_word else 0\n",
    "     \n",
    "    nb_options = 0 \n",
    "    new_letter = remaining[0]\n",
    "    new_word = current_word.copy()\n",
    "    new_word.append(new_letter)\n",
    "    word = '|'.join(new_word)\n",
    "    if word in encoded_word_counts_map:\n",
    "        print(f'{level} {current_sentence} -> found {word}')\n",
    "        new_sentence = current_sentence.copy()\n",
    "        new_sentence.append(word)\n",
    "        new_remaining = remaining.copy()\n",
    "        nb_options += decode_words(level+1, new_sentence, [], new_remaining[1:]) * encoded_word_counts_map[word]\n",
    "\n",
    "    print(f'{level} {current_sentence} + {new_word}')\n",
    "    new_remaining = remaining.copy()\n",
    "    nb_options += decode_words(level+1, current_sentence, new_word, new_remaining[1:]) \n",
    "                 \n",
    "    return nb_options"
   ]
  },
  {
   "cell_type": "code",
   "execution_count": null,
   "id": "charitable-bernard",
   "metadata": {},
   "outputs": [],
   "source": [
    "morse_sentence = '....' # E . I .. S ... H ....\n",
    "words = ['EEEE', 'EIE', 'SE', 'ES', 'H', 'L', 'O'] \n",
    "encoded_word_counts_map = {}\n",
    "[generate_word_count(w,'|') for w in words]\n",
    "encoded_word_sizes_map = {word:len(word) for word in encoded_word_counts_map.keys()}\n",
    "\n",
    "morse_sentence_letters = ['.', '..', '.']  # EIE\n",
    "res = decode_words(0, [], [], morse_sentence_letters)\n",
    "print(res)\n",
    "assert res == 1 # EIE"
   ]
  },
  {
   "cell_type": "code",
   "execution_count": null,
   "id": "rapid-virus",
   "metadata": {},
   "outputs": [],
   "source": [
    "morse_sentence = '....' # E . I .. S ... H ....\n",
    "words = ['EIE', 'SE', 'ES', 'H', 'L', 'O'] \n",
    "encoded_word_counts_map = {}\n",
    "[generate_word_count(w,'|') for w in words]\n",
    "encoded_word_sizes_map = {word:len(word) for word in encoded_word_counts_map.keys()}\n",
    "\n",
    "morse_sentence_letters = ['.', '...']  # ES\n",
    "res = decode_words(0, [], [], morse_sentence_letters)\n",
    "print(res)\n",
    "assert res == 1 # ES"
   ]
  },
  {
   "cell_type": "code",
   "execution_count": null,
   "id": "random-elizabeth",
   "metadata": {},
   "outputs": [],
   "source": [
    "morse_sentence = '....' # E . I .. S ... H ....\n",
    "words = ['S', 'L', 'O'] \n",
    "encoded_word_counts_map = {}\n",
    "[generate_word_count(w,'|') for w in words]\n",
    "encoded_word_sizes_map = {word:len(word) for word in encoded_word_counts_map.keys()}\n",
    "\n",
    "morse_sentence_letters = ['.', '...']  # ES\n",
    "res = decode_words(0, [], [], morse_sentence_letters)\n",
    "print(res)\n",
    "assert res == 0 # no match"
   ]
  },
  {
   "cell_type": "code",
   "execution_count": null,
   "id": "pediatric-patch",
   "metadata": {},
   "outputs": [],
   "source": [
    "morse_sentence = '......-..' # HEL\n",
    "words = ['HEL', 'HE', 'L', 'O'] \n",
    "encoded_word_counts_map = {}\n",
    "[generate_word_count(w,'|') for w in words]\n",
    "encoded_word_sizes_map = {word:len(word) for word in encoded_word_counts_map.keys()}\n",
    "\n",
    "morse_sentence_letters = ['....', '.', '.-..']  # ES\n",
    "res = decode_words(0, [], [], morse_sentence_letters)\n",
    "print(res)\n",
    "assert res == 2 # HEL, HE L"
   ]
  },
  {
   "cell_type": "markdown",
   "id": "possible-jordan",
   "metadata": {},
   "source": [
    "# mix"
   ]
  },
  {
   "cell_type": "code",
   "execution_count": null,
   "id": "charitable-clark",
   "metadata": {},
   "outputs": [],
   "source": [
    "def decode_words(level, current_sentence, current_word, remaining):\n",
    "    def translate(word): return ''.join([reverse_alphabet_map[l] for l in word.split('|')])\n",
    "    words = [translate(word) for word in current_sentence]\n",
    "    keys = ' '.join(words)\n",
    "    keyw = ''.join([reverse_alphabet_map[l] for l in current_word])\n",
    "    key = f'{keys}+{keyw}'\n",
    "   \n",
    "    if not remaining:\n",
    "        if not current_word: print(f'{key} ==== {level} {current_sentence} {current_word}')\n",
    "        else: print(f'{key} ====X {level} {current_sentence} {current_word}')\n",
    "        return 1 if not current_word else 0\n",
    "     \n",
    "    nb_options = 0 \n",
    "    new_letter = remaining[0]\n",
    "    new_word = current_word.copy()\n",
    "    new_word.append(new_letter)\n",
    "    word = '|'.join(new_word)\n",
    "    if word in encoded_word_counts_map:\n",
    "        new_sentence = current_sentence.copy()\n",
    "        new_sentence.append(word)\n",
    "        new_remaining = remaining.copy()\n",
    "        #print(f'{key} {level} {new_sentence} [] rem={new_remaining[1:]}' )\n",
    "        nb_options += decode_words(level+1, new_sentence, [], new_remaining[1:]) * encoded_word_counts_map[word]\n",
    "    \n",
    "    # if else find HE L and stop before HEL\n",
    "    new_remaining = remaining.copy()\n",
    "    #print(f'{key} {level} {current_sentence} {new_word} rem={new_remaining[1:]}' )\n",
    "    nb_options += decode_words(level+1, current_sentence, new_word, new_remaining[1:]) \n",
    "                 \n",
    "    return nb_options"
   ]
  },
  {
   "cell_type": "code",
   "execution_count": null,
   "id": "enclosed-jurisdiction",
   "metadata": {},
   "outputs": [],
   "source": [
    "def decode_letters(level, current_sentence, remaining):\n",
    "    if not remaining:\n",
    "        #if current_sentence: print(f'==> {level} {current_sentence}')\n",
    "        return decode_words(0, [], [], current_sentence) if current_sentence else 0\n",
    "     \n",
    "    nb_options = 0 \n",
    "    for encoded_letter in morse_alphabet:\n",
    "        if remaining.startswith(encoded_letter):\n",
    "            #print(f'{level} {current_sentence} + {encoded_letter}')\n",
    "            new_sentence = current_sentence.copy()\n",
    "            new_sentence.append(encoded_letter)\n",
    "            i = len(encoded_letter)\n",
    "            new_remaining = str(remaining[i:])\n",
    "            nb_options += decode_letters(level+1, new_sentence, new_remaining)\n",
    "                \n",
    "    return nb_options                "
   ]
  },
  {
   "cell_type": "code",
   "execution_count": null,
   "id": "boxed-advertiser",
   "metadata": {},
   "outputs": [],
   "source": [
    "morse_sentence = '....' # E . I .. S ... H ....\n",
    "words = ['EIE', 'SE', 'ES', 'H', 'L', 'O'] \n",
    "encoded_word_translator_map\n",
    "[generate_word_translator(w) for w in words]\n",
    "encoded_word_counts_map = {}\n",
    "[generate_word_count(w,'|') for w in words]\n",
    "encoded_word_sizes_map = {word:len(word) for word in encoded_word_counts_map.keys()}\n",
    "\n",
    "res = decode_letters(0, [], morse_sentence)\n",
    "print(res)\n",
    "assert res == 4 # EIE, ES, H, SE "
   ]
  },
  {
   "cell_type": "code",
   "execution_count": null,
   "id": "capital-battlefield",
   "metadata": {},
   "outputs": [],
   "source": [
    "morse_sentence = '....' # E . I .. S ... H ....\n",
    "words = ['S', 'L', 'O'] \n",
    "encoded_word_counts_map = {}\n",
    "[generate_word_count(w,'|') for w in words]\n",
    "encoded_word_sizes_map = {word:len(word) for word in encoded_word_counts_map.keys()}\n",
    "\n",
    "res = decode_letters(0, [], morse_sentence)\n",
    "print(res)\n",
    "assert res == 0 # no match"
   ]
  },
  {
   "cell_type": "code",
   "execution_count": null,
   "id": "retired-color",
   "metadata": {},
   "outputs": [],
   "source": [
    "morse_sentence = '.....' # confusion EH/HE\n",
    "words = ['HEL', 'HE', 'EH', 'O'] \n",
    "encoded_word_counts_map = {}\n",
    "[generate_word_count(w,'|') for w in words]\n",
    "encoded_word_sizes_map = {word:len(word) for word in encoded_word_counts_map.keys()}\n",
    "\n",
    "res = decode_letters(0, [], morse_sentence)\n",
    "print(res)\n",
    "\n",
    "assert res == 2 # HE, EH"
   ]
  },
  {
   "cell_type": "code",
   "execution_count": null,
   "id": "functional-conflict",
   "metadata": {},
   "outputs": [],
   "source": [
    "morse_sentence = '......-..' # HEL single option\n",
    "words = ['HEL', 'O'] \n",
    "encoded_word_counts_map = {}\n",
    "[generate_word_count(w,'|') for w in words]\n",
    "encoded_word_sizes_map = {word:len(word) for word in encoded_word_counts_map.keys()}\n",
    "\n",
    "res = decode_letters(0, [], morse_sentence)\n",
    "print(res)\n",
    "\n",
    "assert res == 1 # HEL"
   ]
  },
  {
   "cell_type": "code",
   "execution_count": null,
   "id": "large-willow",
   "metadata": {},
   "outputs": [],
   "source": [
    "morse_sentence = '......-..' # HEL no EH/HE confusion\n",
    "words = ['HEL', 'HE', 'L', 'O'] \n",
    "encoded_word_counts_map = {}\n",
    "[generate_word_count(w,'|') for w in words]\n",
    "encoded_word_sizes_map = {word:len(word) for word in encoded_word_counts_map.keys()}\n",
    "\n",
    "res = decode_letters(0, [], morse_sentence)\n",
    "print(res)\n",
    "\n",
    "assert res == 2 # HEL, HE L  -- fix stops when HE L is foundd and never reach HEL"
   ]
  },
  {
   "cell_type": "code",
   "execution_count": null,
   "id": "numerous-dietary",
   "metadata": {},
   "outputs": [],
   "source": [
    "morse_sentence = '......-..' # HEL with confusion EH/HE\n",
    "words = ['HEL', 'HE', 'EH', 'L', 'O'] \n",
    "encoded_word_counts_map = {}\n",
    "[generate_word_count(w,'|') for w in words]\n",
    "encoded_word_sizes_map = {word:len(word) for word in encoded_word_counts_map.keys()}\n",
    "\n",
    "res = decode_letters(0, [], morse_sentence)\n",
    "print(res)\n",
    "\n",
    "assert res == 3 # HEL, HE L, EH L"
   ]
  },
  {
   "cell_type": "code",
   "execution_count": null,
   "id": "large-debut",
   "metadata": {},
   "outputs": [],
   "source": [
    "morse_sentence = '......-...-..---' # HELLO with confusion EH/HE\n",
    "words = ['HELL', 'HELLO', 'WORLD', 'OWORLD', 'TEST', 'HE', 'EH', 'L', 'O'] \n",
    "encoded_word_counts_map = {}\n",
    "[generate_word_count(w,'|') for w in words]\n",
    "encoded_word_sizes_map = {word:len(word) for word in encoded_word_counts_map.keys()}\n",
    "\n",
    "res = decode_letters(0, [], morse_sentence)\n",
    "print(res)\n",
    "\n",
    "assert res == 4 # HELLO, HELL O, HE L L O, EH L L O"
   ]
  },
  {
   "cell_type": "code",
   "execution_count": null,
   "id": "demanding-polymer",
   "metadata": {},
   "outputs": [],
   "source": [
    "print('ok')"
   ]
  },
  {
   "cell_type": "markdown",
   "id": "heard-theme",
   "metadata": {},
   "source": [
    "# solution finalisée"
   ]
  },
  {
   "cell_type": "code",
   "execution_count": 7,
   "id": "dated-cruise",
   "metadata": {},
   "outputs": [],
   "source": [
    "alphabet = '''A  .- \t B  -... \t C  -.-. \t D  -..\n",
    " E  . \t F  ..-. \t G  --. \t H  ....\n",
    " I  .. \t J  .--- \t K  -.- \t L  .-..\n",
    " M  -- \t N  -. \t O  --- \t P  .--.\n",
    " Q  --.- \t R  .-. \t S  ... \t T  -\n",
    " U  ..- \t V  ...- \t W  .-- \t X  -..-\n",
    " Y  -.-- \t Z  --..'''\n",
    "\n",
    "def generate_alphabet_map():\n",
    "    key = None\n",
    "    alphabet_map = {}\n",
    "    for value in alphabet.split():\n",
    "        if not key is None:\n",
    "            alphabet_map[key] = value\n",
    "            key = None\n",
    "        else:\n",
    "            key = value  \n",
    "    return alphabet_map\n",
    "\n",
    "alphabet_map = generate_alphabet_map()\n",
    "morse_alphabet = alphabet_map.values()\n",
    "#morse_alphabet"
   ]
  },
  {
   "cell_type": "code",
   "execution_count": 8,
   "id": "composite-salad",
   "metadata": {},
   "outputs": [],
   "source": [
    "encoded_word_list = []\n",
    "def generate_word_list(word, sep=''):\n",
    "    letters = []\n",
    "    for letter in word: letters.append(alphabet_map[letter])\n",
    "    encoded_word = sep.join(letters)\n",
    "    encoded_word_list.append(encoded_word)"
   ]
  },
  {
   "cell_type": "code",
   "execution_count": 9,
   "id": "minor-tracker",
   "metadata": {},
   "outputs": [],
   "source": [
    "def decode_words(current_word, remaining):\n",
    "    if not remaining:\n",
    "        return 1 if not current_word else 0\n",
    "     \n",
    "    nb_options = 0 \n",
    "    new_letter = remaining[0]\n",
    "    new_word = current_word.copy()\n",
    "    new_word.append(new_letter)\n",
    "    word = '|'.join(new_word)\n",
    "    if word in encoded_word_list:\n",
    "        new_remaining = remaining.copy()\n",
    "        nb_options += decode_words([], new_remaining[1:]) \n",
    "    \n",
    "    new_remaining = remaining.copy()\n",
    "    nb_options += decode_words(new_word, new_remaining[1:]) \n",
    "                 \n",
    "    return nb_options\n",
    "\n",
    "def decode_letters(current_sentence, remaining):\n",
    "    if not remaining:\n",
    "        return decode_words([], current_sentence) if current_sentence else 0\n",
    "     \n",
    "    nb_options = 0 \n",
    "    for encoded_letter in morse_alphabet:\n",
    "        if remaining.startswith(encoded_letter):\n",
    "            new_sentence = current_sentence.copy()\n",
    "            new_sentence.append(encoded_letter)\n",
    "            i = len(encoded_letter)\n",
    "            new_remaining = str(remaining[i:])\n",
    "            nb_options += decode_letters(new_sentence, new_remaining)\n",
    "                \n",
    "    return nb_options         "
   ]
  },
  {
   "cell_type": "code",
   "execution_count": 10,
   "id": "abstract-aruba",
   "metadata": {},
   "outputs": [
    {
     "name": "stdout",
     "output_type": "stream",
     "text": [
      "['.|..|.', '...|.', '.|...', '....', '.-..', '---']\n",
      "4\n"
     ]
    }
   ],
   "source": [
    "morse_sentence = '....' # E . I .. S ... H ....\n",
    "words = ['EIE', 'SE', 'ES', 'H', 'L', 'O'] \n",
    "encoded_word_list = []\n",
    "[generate_word_list(w,'|') for w in words]\n",
    "print(encoded_word_list)\n",
    "\n",
    "res = decode_letters([], morse_sentence)\n",
    "print(res)\n",
    "assert res == 4 # EIE, ES, H, SE "
   ]
  },
  {
   "cell_type": "code",
   "execution_count": 11,
   "id": "casual-lawyer",
   "metadata": {},
   "outputs": [
    {
     "name": "stdout",
     "output_type": "stream",
     "text": [
      "['...', '.-..', '---']\n",
      "0\n"
     ]
    }
   ],
   "source": [
    "morse_sentence = '....' # E . I .. S ... H ....\n",
    "words = ['S', 'L', 'O'] \n",
    "encoded_word_list = []\n",
    "[generate_word_list(w,'|') for w in words]\n",
    "print(encoded_word_list)\n",
    "\n",
    "res = decode_letters([], morse_sentence)\n",
    "print(res)\n",
    "assert res == 0 # no match"
   ]
  },
  {
   "cell_type": "code",
   "execution_count": 12,
   "id": "helpful-bibliography",
   "metadata": {},
   "outputs": [
    {
     "name": "stdout",
     "output_type": "stream",
     "text": [
      "['....|.|.-..', '....|.', '.|....', '---']\n",
      "2\n"
     ]
    }
   ],
   "source": [
    "morse_sentence = '.....' # confusion EH/HE\n",
    "words = ['HEL', 'HE', 'EH', 'O'] \n",
    "encoded_word_list = []\n",
    "[generate_word_list(w,'|') for w in words]\n",
    "print(encoded_word_list)\n",
    "\n",
    "res = decode_letters([], morse_sentence)\n",
    "print(res)\n",
    "\n",
    "assert res == 2 # HE, EH"
   ]
  },
  {
   "cell_type": "code",
   "execution_count": 13,
   "id": "connected-venezuela",
   "metadata": {},
   "outputs": [
    {
     "name": "stdout",
     "output_type": "stream",
     "text": [
      "['....|.|.-..', '---']\n",
      "1\n"
     ]
    }
   ],
   "source": [
    "morse_sentence = '......-..' # HEL single option\n",
    "words = ['HEL', 'O'] \n",
    "encoded_word_list = []\n",
    "[generate_word_list(w,'|') for w in words]\n",
    "print(encoded_word_list)\n",
    "\n",
    "res = decode_letters([], morse_sentence)\n",
    "print(res)\n",
    "\n",
    "assert res == 1 # HEL"
   ]
  },
  {
   "cell_type": "code",
   "execution_count": 14,
   "id": "pending-cosmetic",
   "metadata": {},
   "outputs": [
    {
     "name": "stdout",
     "output_type": "stream",
     "text": [
      "['....|.|.-..', '....|.', '.-..', '---']\n",
      "2\n"
     ]
    }
   ],
   "source": [
    "morse_sentence = '......-..' # HEL no EH/HE confusion\n",
    "words = ['HEL', 'HE', 'L', 'O'] \n",
    "encoded_word_list = []\n",
    "[generate_word_list(w,'|') for w in words]\n",
    "print(encoded_word_list)\n",
    "\n",
    "res = decode_letters([], morse_sentence)\n",
    "print(res)\n",
    "\n",
    "assert res == 2 # HEL, HE L  -- fix stops when HE L is foundd and never reach HEL"
   ]
  },
  {
   "cell_type": "code",
   "execution_count": 15,
   "id": "gothic-effort",
   "metadata": {},
   "outputs": [
    {
     "name": "stdout",
     "output_type": "stream",
     "text": [
      "['....|.|.-..', '....|.', '.|....', '.-..', '---']\n",
      "3\n"
     ]
    }
   ],
   "source": [
    "morse_sentence = '......-..' # HEL with confusion EH/HE\n",
    "words = ['HEL', 'HE', 'EH', 'L', 'O'] \n",
    "encoded_word_list = []\n",
    "[generate_word_list(w,'|') for w in words]\n",
    "print(encoded_word_list)\n",
    "\n",
    "res = decode_letters([], morse_sentence)\n",
    "print(res)\n",
    "\n",
    "assert res == 3 # HEL, HE L, EH L"
   ]
  },
  {
   "cell_type": "code",
   "execution_count": 16,
   "id": "acknowledged-portland",
   "metadata": {},
   "outputs": [
    {
     "name": "stdout",
     "output_type": "stream",
     "text": [
      "['....|.|.-..|.-..', '....|.|.-..|.-..|---', '.--|---|.-.|.-..|-..', '---|.--|---|.-.|.-..|-..', '-|.|...|-', '....|.', '.|....', '.-..', '---']\n",
      "4\n"
     ]
    }
   ],
   "source": [
    "morse_sentence = '......-...-..---' # HELLO with confusion EH/HE\n",
    "words = ['HELL', 'HELLO', 'WORLD', 'OWORLD', 'TEST', 'HE', 'EH', 'L', 'O'] \n",
    "encoded_word_list = []\n",
    "[generate_word_list(w,'|') for w in words]\n",
    "print(encoded_word_list)\n",
    "\n",
    "res = decode_letters([], morse_sentence)\n",
    "print(res)\n",
    "\n",
    "assert res == 4 # HELLO, HELL O, HE L L O, EH L L O"
   ]
  },
  {
   "cell_type": "code",
   "execution_count": null,
   "id": "bulgarian-thompson",
   "metadata": {},
   "outputs": [],
   "source": []
  }
 ],
 "metadata": {
  "kernelspec": {
   "display_name": "Python 3",
   "language": "python",
   "name": "python3"
  },
  "language_info": {
   "codemirror_mode": {
    "name": "ipython",
    "version": 3
   },
   "file_extension": ".py",
   "mimetype": "text/x-python",
   "name": "python",
   "nbconvert_exporter": "python",
   "pygments_lexer": "ipython3",
   "version": "3.8.5"
  }
 },
 "nbformat": 4,
 "nbformat_minor": 5
}
