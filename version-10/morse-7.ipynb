{
 "cells": [
  {
   "cell_type": "markdown",
   "id": "assisted-minute",
   "metadata": {},
   "source": [
    "# morse alphabet "
   ]
  },
  {
   "cell_type": "code",
   "execution_count": 1,
   "id": "executive-collective",
   "metadata": {},
   "outputs": [],
   "source": [
    "import time\n",
    "import sys"
   ]
  },
  {
   "cell_type": "markdown",
   "id": "trained-treaty",
   "metadata": {},
   "source": [
    "### Morse Alphabet"
   ]
  },
  {
   "cell_type": "markdown",
   "id": "governmental-atlantic",
   "metadata": {},
   "source": [
    "A  .- \t B  -... \t C  -.-. \t D  -..\n",
    "E  . \t F  ..-. \t G  --. \t H  ....\n",
    "I  .. \t J  .--- \t K  -.- \t L  .-..\n",
    "M  -- \t N  -. \t O  --- \t P  .--.\n",
    "Q  --.- \t R  .-. \t S  ... \t T  -\n",
    "U  ..- \t V  ...- \t W  .-- \t X  -..-\n",
    "Y  -.-- \t Z  --.."
   ]
  },
  {
   "cell_type": "code",
   "execution_count": 2,
   "id": "complete-dress",
   "metadata": {},
   "outputs": [],
   "source": [
    "from alphabet import MorseAlphabet"
   ]
  },
  {
   "cell_type": "code",
   "execution_count": 3,
   "id": "partial-agreement",
   "metadata": {},
   "outputs": [],
   "source": [
    "from context import Context"
   ]
  },
  {
   "cell_type": "code",
   "execution_count": 4,
   "id": "certified-radiation",
   "metadata": {},
   "outputs": [],
   "source": [
    "from wordencoder import WordEncoder\n",
    "from wordfinder import WordFinder"
   ]
  },
  {
   "cell_type": "code",
   "execution_count": 5,
   "id": "german-trigger",
   "metadata": {},
   "outputs": [],
   "source": [
    "from node import Node, NodeState\n",
    "from nodetree import NodeTree"
   ]
  },
  {
   "cell_type": "code",
   "execution_count": null,
   "id": "confidential-runner",
   "metadata": {},
   "outputs": [],
   "source": []
  },
  {
   "cell_type": "code",
   "execution_count": 6,
   "id": "municipal-juice",
   "metadata": {},
   "outputs": [],
   "source": [
    "import jdc"
   ]
  },
  {
   "cell_type": "markdown",
   "id": "every-interface",
   "metadata": {},
   "source": [
    "# -------------------------------------"
   ]
  },
  {
   "cell_type": "code",
   "execution_count": 39,
   "id": "dirty-tiffany",
   "metadata": {},
   "outputs": [],
   "source": [
    "def count(acc, current_node, context, tree):\n",
    "    if not current_node:\n",
    "        #print(\"fin\")\n",
    "        return acc\n",
    "    \n",
    "    #print(f\"current_node:{current_node}\")\n",
    "  \n",
    "    # found a whole sentence\n",
    "    if current_node.is_done:\n",
    "        acc += current_node.total_options\n",
    "    \n",
    "    return count(acc, tree.next(), context, tree)"
   ]
  },
  {
   "cell_type": "markdown",
   "id": "committed-lunch",
   "metadata": {},
   "source": [
    "# unit tests harness"
   ]
  },
  {
   "cell_type": "code",
   "execution_count": 51,
   "id": "fatty-courtesy",
   "metadata": {},
   "outputs": [],
   "source": [
    "def count_runner(target_sentence, words, verbose=False):\n",
    "    print(f'nb words {len(words)}')\n",
    "             \n",
    "    # sort words by length\n",
    "    #words.sort(key=len, reverse=True)\n",
    "    context = Context()\n",
    "    context.add_sentence(target_sentence)\n",
    "    context.add_alphabet(MorseAlphabet())\n",
    "    \n",
    "    word_encoder = WordEncoder(context, use_screening=True)\n",
    "    context.add_word_encoder(word_encoder)\n",
    "\n",
    "    word_encoder.add_word_list(words)\n",
    "    if verbose:\n",
    "        print(f'encoded words {word_encoder.get_dict()}')\n",
    "    print(f'nb encoded words {len(word_encoder.get_dict())}')\n",
    "\n",
    "    word_finder = WordFinder(context)\n",
    "    context.add_word_finder(word_finder)\n",
    "  \n",
    "    tree = NodeTree(context) \n",
    "    next_node = tree.next()\n",
    "    acc = 0\n",
    "    while next_node:\n",
    "        if next_node.is_done:\n",
    "            acc += next_node.total_options\n",
    "        next_node = tree.next()\n",
    " \n",
    "    return acc"
   ]
  },
  {
   "cell_type": "code",
   "execution_count": 9,
   "id": "sought-genre",
   "metadata": {},
   "outputs": [
    {
     "name": "stdout",
     "output_type": "stream",
     "text": [
      "ok\n"
     ]
    }
   ],
   "source": [
    "print('ok')"
   ]
  },
  {
   "cell_type": "markdown",
   "id": "thorough-antarctica",
   "metadata": {},
   "source": [
    "# -------------------------------------"
   ]
  },
  {
   "cell_type": "markdown",
   "id": "exact-award",
   "metadata": {},
   "source": [
    "# unit tests"
   ]
  },
  {
   "cell_type": "markdown",
   "id": "retained-azerbaijan",
   "metadata": {},
   "source": [
    "### empty sentence"
   ]
  },
  {
   "cell_type": "code",
   "execution_count": 52,
   "id": "uniform-mercy",
   "metadata": {},
   "outputs": [
    {
     "name": "stdout",
     "output_type": "stream",
     "text": [
      "nb words 3\n",
      "nb encoded words 0\n",
      "count: 0\n"
     ]
    }
   ],
   "source": [
    "morse_sentence = '' \n",
    "words = ['SE', 'T', 'O'] \n",
    "\n",
    "res = count_runner(morse_sentence, words)\n",
    "\n",
    "print(f'count: {res}')\n",
    "\n",
    "assert res == 0"
   ]
  },
  {
   "cell_type": "markdown",
   "id": "ruled-orlando",
   "metadata": {},
   "source": [
    "### empty words"
   ]
  },
  {
   "cell_type": "code",
   "execution_count": 53,
   "id": "chief-congress",
   "metadata": {},
   "outputs": [
    {
     "name": "stdout",
     "output_type": "stream",
     "text": [
      "nb words 0\n",
      "nb encoded words 0\n",
      "count: 0\n"
     ]
    }
   ],
   "source": [
    "morse_sentence = '-' # T \n",
    "words = [] \n",
    "\n",
    "res = count_runner(morse_sentence, words)\n",
    "\n",
    "print(f'count: {res}')\n",
    "\n",
    "assert res == 0"
   ]
  },
  {
   "cell_type": "markdown",
   "id": "vital-doctor",
   "metadata": {},
   "source": [
    "### one word"
   ]
  },
  {
   "cell_type": "code",
   "execution_count": 54,
   "id": "noted-combining",
   "metadata": {},
   "outputs": [
    {
     "name": "stdout",
     "output_type": "stream",
     "text": [
      "nb words 1\n",
      "encoded words {'-': -}\n",
      "nb encoded words 1\n",
      "count: 1\n"
     ]
    }
   ],
   "source": [
    "morse_sentence = '-' # T \n",
    "words = ['T'] \n",
    "\n",
    "res = count_runner(morse_sentence, words, verbose=True)\n",
    "\n",
    "print(f'count: {res}')\n",
    "\n",
    "assert res == 1"
   ]
  },
  {
   "cell_type": "code",
   "execution_count": 55,
   "id": "civilian-columbus",
   "metadata": {},
   "outputs": [
    {
     "name": "stdout",
     "output_type": "stream",
     "text": [
      "nb words 3\n",
      "encoded words {'-': -, '--': --}\n",
      "nb encoded words 2\n",
      "count: 2\n"
     ]
    }
   ],
   "source": [
    "morse_sentence = '--' # T \n",
    "words = ['T', 'X', 'M'] \n",
    "\n",
    "res = count_runner(morse_sentence, words, verbose=True)\n",
    "\n",
    "print(f'count: {res}')\n",
    "\n",
    "assert res == 2 # TT, M"
   ]
  },
  {
   "cell_type": "markdown",
   "id": "major-empire",
   "metadata": {},
   "source": [
    "### One letter - one option"
   ]
  },
  {
   "cell_type": "code",
   "execution_count": 56,
   "id": "stunning-halifax",
   "metadata": {},
   "outputs": [
    {
     "name": "stdout",
     "output_type": "stream",
     "text": [
      "nb words 3\n",
      "encoded words {'-': -}\n",
      "nb encoded words 1\n",
      "count: 1\n"
     ]
    }
   ],
   "source": [
    "morse_sentence = '-' # T\n",
    "words = ['SE', 'T', 'O'] \n",
    "\n",
    "res = count_runner(morse_sentence, words, verbose=True)\n",
    "print(f'count: {res}')\n",
    "\n",
    "assert res == 1 # T"
   ]
  },
  {
   "cell_type": "markdown",
   "id": "ranking-report",
   "metadata": {},
   "source": [
    "### very few words"
   ]
  },
  {
   "cell_type": "code",
   "execution_count": 57,
   "id": "cultural-arbor",
   "metadata": {},
   "outputs": [
    {
     "name": "stdout",
     "output_type": "stream",
     "text": [
      "nb words 1\n",
      "encoded words {'-.': -.}\n",
      "nb encoded words 1\n",
      "count: 1\n"
     ]
    }
   ],
   "source": [
    "morse_sentence = '-.-.' # TETE\n",
    "words = ['TE'] \n",
    "\n",
    "res = count_runner(morse_sentence, words, verbose=True)\n",
    "print(f'count: {res}')\n",
    "\n",
    "assert res == 1 # TE TE"
   ]
  },
  {
   "cell_type": "code",
   "execution_count": 58,
   "id": "silent-usage",
   "metadata": {},
   "outputs": [
    {
     "name": "stdout",
     "output_type": "stream",
     "text": [
      "nb words 2\n",
      "encoded words {'-': -, '.': .}\n",
      "nb encoded words 2\n",
      "count: 1\n"
     ]
    }
   ],
   "source": [
    "morse_sentence = '-.-.' # TETE\n",
    "words = ['T','E'] \n",
    "\n",
    "res = count_runner(morse_sentence, words, verbose=True)\n",
    "print(f'count: {res}')\n",
    "\n",
    "assert res == 1 # TE TE"
   ]
  },
  {
   "cell_type": "markdown",
   "id": "billion-denmark",
   "metadata": {},
   "source": [
    "### short message - multiple options"
   ]
  },
  {
   "cell_type": "code",
   "execution_count": 59,
   "id": "willing-roots",
   "metadata": {},
   "outputs": [
    {
     "name": "stdout",
     "output_type": "stream",
     "text": [
      "nb words 6\n",
      "encoded words {'....': ....#4}\n",
      "nb encoded words 1\n",
      "count: 4\n"
     ]
    }
   ],
   "source": [
    "morse_sentence = '....' # E . I .. S ... H ....\n",
    "words = ['EIE', 'SE', 'ES', 'H', 'L', 'O'] \n",
    "\n",
    "res = count_runner(morse_sentence, words, verbose=True)\n",
    "print(f'count: {res}')\n",
    "\n",
    "assert res == 4 # EIE, ES, H, SE "
   ]
  },
  {
   "cell_type": "markdown",
   "id": "shaped-kansas",
   "metadata": {},
   "source": [
    "### no match"
   ]
  },
  {
   "cell_type": "code",
   "execution_count": 60,
   "id": "level-charleston",
   "metadata": {},
   "outputs": [
    {
     "name": "stdout",
     "output_type": "stream",
     "text": [
      "nb words 3\n",
      "encoded words {}\n",
      "nb encoded words 0\n",
      "count: 0\n"
     ]
    }
   ],
   "source": [
    "morse_sentence = '....' # E . I .. S ... H ....\n",
    "words = ['X', 'L', 'O'] \n",
    "\n",
    "res = count_runner(morse_sentence, words, verbose=True)\n",
    "print(f'count: {res}')\n",
    "\n",
    "assert res == 0 # no match"
   ]
  },
  {
   "cell_type": "markdown",
   "id": "pacific-prior",
   "metadata": {},
   "source": [
    "### short message - multiple options with permutations"
   ]
  },
  {
   "cell_type": "code",
   "execution_count": 61,
   "id": "modern-canberra",
   "metadata": {},
   "outputs": [
    {
     "name": "stdout",
     "output_type": "stream",
     "text": [
      "nb words 4\n",
      "encoded words {'.....': .....#2}\n",
      "nb encoded words 1\n",
      "count: 2\n"
     ]
    }
   ],
   "source": [
    "morse_sentence = '.....' # confusion EH/HE\n",
    "words = ['HEL', 'HE', 'EH', 'O'] \n",
    "\n",
    "res = count_runner(morse_sentence, words, verbose=True)\n",
    "print(f'count: {res}')\n",
    "\n",
    "assert res == 2 # HE, EH"
   ]
  },
  {
   "cell_type": "markdown",
   "id": "french-emphasis",
   "metadata": {},
   "source": [
    "### short message - one option"
   ]
  },
  {
   "cell_type": "code",
   "execution_count": 62,
   "id": "contemporary-miami",
   "metadata": {},
   "outputs": [
    {
     "name": "stdout",
     "output_type": "stream",
     "text": [
      "nb words 2\n",
      "encoded words {'......-..': ......-..}\n",
      "nb encoded words 1\n",
      "count: 1\n"
     ]
    }
   ],
   "source": [
    "morse_sentence = '......-..' # HEL single option\n",
    "words = ['HEL', 'O'] \n",
    "\n",
    "res = count_runner(morse_sentence, words, verbose=True)\n",
    "print(f'count: {res}')\n",
    "\n",
    "assert res == 1 # HEL"
   ]
  },
  {
   "cell_type": "markdown",
   "id": "quality-pottery",
   "metadata": {},
   "source": [
    "### short message - multiple options with partial match"
   ]
  },
  {
   "cell_type": "code",
   "execution_count": 63,
   "id": "consistent-jumping",
   "metadata": {},
   "outputs": [
    {
     "name": "stdout",
     "output_type": "stream",
     "text": [
      "nb words 4\n",
      "encoded words {'......-..': ......-.., '.....': ....., '.-..': .-..}\n",
      "nb encoded words 3\n",
      "count: 2\n"
     ]
    }
   ],
   "source": [
    "morse_sentence = '......-..' # HEL or HE L\n",
    "words = ['HEL', 'HE', 'L', 'O'] \n",
    "\n",
    "res = count_runner(morse_sentence, words, verbose=True)\n",
    "print(f'count: {res}')\n",
    "\n",
    "assert res == 2 # HEL, HE L  -- fix stops when HE L is found and never reach HEL"
   ]
  },
  {
   "cell_type": "markdown",
   "id": "owned-feedback",
   "metadata": {},
   "source": [
    "### short message - multiple options with partial match and permutations"
   ]
  },
  {
   "cell_type": "code",
   "execution_count": 64,
   "id": "incoming-northwest",
   "metadata": {
    "scrolled": true
   },
   "outputs": [
    {
     "name": "stdout",
     "output_type": "stream",
     "text": [
      "nb words 5\n",
      "encoded words {'......-..': ......-.., '.....': .....#2, '.-..': .-..}\n",
      "nb encoded words 3\n",
      "count: 3\n"
     ]
    }
   ],
   "source": [
    "morse_sentence = '......-..' # HEL with confusion EH/HE\n",
    "words = ['HEL', 'HE', 'EH', 'L', 'O'] \n",
    "\n",
    "res = count_runner(morse_sentence, words, verbose=True)\n",
    "print(f'count: {res}')\n",
    "\n",
    "assert res == 3 # HEL, HE L, EH L"
   ]
  },
  {
   "cell_type": "markdown",
   "id": "orange-warrior",
   "metadata": {},
   "source": [
    "### short sample message - multiple options"
   ]
  },
  {
   "cell_type": "code",
   "execution_count": 65,
   "id": "graphic-driving",
   "metadata": {},
   "outputs": [
    {
     "name": "stdout",
     "output_type": "stream",
     "text": [
      "nb words 7\n",
      "encoded words {'......-...-..': ......-...-.., '......-...-..---': ......-...-..---, '.-..': .-.., '---': ---}\n",
      "nb encoded words 4\n",
      "count: 2\n"
     ]
    }
   ],
   "source": [
    "morse_sentence = '......-...-..---' # HELLO \n",
    "words = ['HELL', 'HELLO', 'WORLD', 'OWORLD', 'TEST', 'L', 'O'] \n",
    "\n",
    "res = count_runner(morse_sentence, words, verbose=True)\n",
    "print(f'count: {res}')\n",
    "\n",
    "assert res == 2 # HELLO, HELL O"
   ]
  },
  {
   "cell_type": "markdown",
   "id": "desirable-deployment",
   "metadata": {},
   "source": [
    "### short sample message - multiple options with permutations"
   ]
  },
  {
   "cell_type": "code",
   "execution_count": 66,
   "id": "unique-signature",
   "metadata": {},
   "outputs": [
    {
     "name": "stdout",
     "output_type": "stream",
     "text": [
      "nb words 9\n",
      "encoded words {'......-...-..': ......-...-.., '......-...-..---': ......-...-..---, '.....': .....#2, '.-..': .-.., '---': ---}\n",
      "nb encoded words 5\n",
      "count: 4\n"
     ]
    }
   ],
   "source": [
    "morse_sentence = '......-...-..---' # HELLO with confusion EH/HE\n",
    "words = ['HELL', 'HELLO', 'WORLD', 'OWORLD', 'TEST', 'HE', 'EH', 'L', 'O'] \n",
    "\n",
    "res = count_runner(morse_sentence, words, verbose=True)\n",
    "print(f'count: {res}')\n",
    "\n",
    "assert res == 4 # HELLO, HELL O, HE L L O, EH L L O"
   ]
  },
  {
   "cell_type": "markdown",
   "id": "personalized-oxide",
   "metadata": {},
   "source": [
    "### sample message"
   ]
  },
  {
   "cell_type": "code",
   "execution_count": 32,
   "id": "appropriate-breathing",
   "metadata": {},
   "outputs": [],
   "source": [
    "import time"
   ]
  },
  {
   "cell_type": "code",
   "execution_count": 67,
   "id": "residential-refund",
   "metadata": {},
   "outputs": [
    {
     "name": "stderr",
     "output_type": "stream",
     "text": [
      "duration 0.0002897399999710615\n"
     ]
    },
    {
     "name": "stdout",
     "output_type": "stream",
     "text": [
      "nb words 5\n",
      "encoded words {'......-...-..': ......-...-.., '......-...-..---': ......-...-..---, '.-----.-..-..-..': .-----.-..-..-.., '---.-----.-..-..-..': ---.-----.-..-..-..}\n",
      "nb encoded words 4\n",
      "count: 2\n"
     ]
    }
   ],
   "source": [
    "morse_sentence = '......-...-..---.-----.-..-..-..' # HELLOWORLD\n",
    "words = ['HELL', 'HELLO', 'WORLD', 'OWORLD', 'TEST'] \n",
    "\n",
    "start = time.perf_counter()\n",
    "res = count_runner(morse_sentence, words, verbose=True)\n",
    "stop = time.perf_counter()\n",
    "print(f\"duration {stop-start}\", file=sys.stderr, flush=True)\n",
    "\n",
    "print(f'count: {res}')\n",
    "\n",
    "assert res == 2 # HELLO WORLD, HELL OWORLD"
   ]
  },
  {
   "cell_type": "markdown",
   "id": "animated-yugoslavia",
   "metadata": {},
   "source": [
    "### other sample"
   ]
  },
  {
   "cell_type": "code",
   "execution_count": 68,
   "id": "apart-static",
   "metadata": {},
   "outputs": [
    {
     "name": "stderr",
     "output_type": "stream",
     "text": [
      "duration 0.00023283800010176492\n"
     ]
    },
    {
     "name": "stdout",
     "output_type": "stream",
     "text": [
      "nb words 5\n",
      "encoded words {'--.-------..': --.-------.., '--.': --.}\n",
      "nb encoded words 2\n",
      "count: 1\n"
     ]
    }
   ],
   "source": [
    "morse_sentence = '--.-------..' # HELLOWORLD\n",
    "words = ['GOD', 'GOOD', 'MORNING', 'G', 'HELLO'] \n",
    "# A .- B -... C -.-. D -.. E . F ..-. G --. H .... \n",
    "# I .. J .--- K -.- L .-.. M -- N -. O --- P .--. \n",
    "# Q --.- R .-. S ... T - U ..- V ...- W .-- X -..- Y -.-- Z --..\n",
    "start = time.perf_counter()\n",
    "res = count_runner(morse_sentence, words, verbose=True)\n",
    "stop = time.perf_counter()\n",
    "print(f\"duration {stop-start}\", file=sys.stderr, flush=True)\n",
    "\n",
    "print(f'count: {res}')\n",
    "\n",
    "assert res == 1 # GOOD"
   ]
  },
  {
   "cell_type": "markdown",
   "id": "absent-topic",
   "metadata": {},
   "source": [
    "count avec startwith \n",
    "unitaire  5.9784999997702926e-05"
   ]
  },
  {
   "cell_type": "markdown",
   "id": "backed-investing",
   "metadata": {},
   "source": [
    "# -------------------------------------"
   ]
  },
  {
   "cell_type": "markdown",
   "id": "neither-baker",
   "metadata": {},
   "source": [
    "# long string"
   ]
  },
  {
   "cell_type": "markdown",
   "id": "liquid-volunteer",
   "metadata": {},
   "source": [
    "### long string generation fixture"
   ]
  },
  {
   "cell_type": "code",
   "execution_count": 69,
   "id": "hungry-edward",
   "metadata": {},
   "outputs": [],
   "source": [
    "import random\n",
    "def generate_random_morse_sentence(length, signs=None, seed=1234, chunk_size=None):\n",
    "    random.seed(seed)\n",
    "    sentence = []\n",
    "    stats = {}\n",
    "    tokens = []\n",
    "    current_token = []\n",
    "    if not chunk_size: chunk_size = random.randint(0, 4) + random.randint(0, 16)\n",
    "\n",
    "    if not signs: signs = list(alphabet_map.keys())\n",
    "    max_sign = len(signs) -1\n",
    "    for s in signs:\n",
    "        stats[s] = 0\n",
    "    for i in range(length):\n",
    "        letter = signs[random.randint(0, max_sign)]\n",
    "        sentence.append(alphabet_map[letter])\n",
    "        stats[letter] += 1\n",
    "        current_token.append(letter)\n",
    "        if len(current_token) >= chunk_size:\n",
    "            tokens.append(''.join(current_token))\n",
    "            current_token = []\n",
    "    \n",
    "    if current_token:\n",
    "        tokens.append(''.join(current_token))\n",
    "         \n",
    "    unique_tokens = list(set(tokens))\n",
    "    \n",
    "    return ''.join(sentence), stats, unique_tokens"
   ]
  },
  {
   "cell_type": "code",
   "execution_count": 70,
   "id": "focused-subject",
   "metadata": {},
   "outputs": [],
   "source": [
    "morse = MorseAlphabet()\n",
    "alphabet_map = morse.encoded_letters_map\n",
    "\n",
    "generated_morse_sentence, stats, tokens = generate_random_morse_sentence(1, signs='E', chunk_size=5)\n",
    "assert len(generated_morse_sentence) == 1\n",
    "assert stats['E'] == 1\n",
    "\n",
    "generated_morse_sentence, stats, tokens = generate_random_morse_sentence(2, signs='ET', chunk_size=5)\n",
    "assert len(generated_morse_sentence) == 2\n",
    "assert stats['E'] == 1\n",
    "assert stats['T'] == 1\n",
    "\n",
    "generated_morse_sentence, stats, tokens = generate_random_morse_sentence(2, chunk_size=5)\n",
    "assert len(generated_morse_sentence) == 7\n",
    "assert stats['O'] == 1\n",
    "assert stats['Y'] == 1"
   ]
  },
  {
   "cell_type": "code",
   "execution_count": null,
   "id": "grave-defensive",
   "metadata": {},
   "outputs": [],
   "source": [
    "if False:\n",
    "    generated_morse_sentence, stats, tokens = generate_random_morse_sentence(10, signs='ET', chunk_size=5)\n",
    "    print(tokens)\n",
    "    assert len(tokens) == 2\n",
    "    assert len(tokens[0]) == 5\n",
    "    assert len(tokens[1]) == 5\n",
    "    assert tokens[0] == 'TEEEE'\n",
    "    assert tokens[1] == 'EETEE'\n",
    "\n",
    "    generated_morse_sentence, stats, tokens = generate_random_morse_sentence(10, signs='E', chunk_size=5)\n",
    "    print(tokens)\n",
    "    assert len(tokens) == 1\n",
    "    assert len(tokens[0]) == 5\n",
    "    assert tokens[0] == 'EEEEE'\n",
    "\n",
    "    generated_morse_sentence, stats, tokens = generate_random_morse_sentence(8, signs='E', chunk_size=5)\n",
    "    print(tokens)\n",
    "    assert len(tokens) == 2\n",
    "    assert len(tokens[0]) == 3\n",
    "    assert len(tokens[1]) == 5\n",
    "    assert tokens[0] == 'EEE'\n",
    "    assert tokens[1] == 'EEEEE'\n",
    "\n",
    "    generated_morse_sentence, stats, tokens = generate_random_morse_sentence(8, chunk_size=2)\n",
    "    print(tokens)\n",
    "    assert len(tokens) == 4\n",
    "    assert len(tokens[0]) == 2\n",
    "    assert tokens[0] == 'YO'\n",
    "\n",
    "    generated_morse_sentence, stats, tokens = generate_random_morse_sentence(40)\n",
    "    print(tokens)\n",
    "    assert len(tokens) == 7\n",
    "    assert tokens[0] == 'ACZSBV'\n"
   ]
  },
  {
   "cell_type": "markdown",
   "id": "satisfied-jungle",
   "metadata": {},
   "source": [
    "### size of the sentence"
   ]
  },
  {
   "cell_type": "code",
   "execution_count": 71,
   "id": "sharing-jamaica",
   "metadata": {},
   "outputs": [],
   "source": [
    "#sentence_size = 20\n",
    "sentence_size = 300\n",
    "verbose = False"
   ]
  },
  {
   "cell_type": "markdown",
   "id": "global-honduras",
   "metadata": {},
   "source": [
    "https://jakevdp.github.io/PythonDataScienceHandbook/01.07-timing-and-profiling.html"
   ]
  },
  {
   "cell_type": "code",
   "execution_count": null,
   "id": "critical-workshop",
   "metadata": {},
   "outputs": [],
   "source": [
    "##%load_ext line_profiler"
   ]
  },
  {
   "cell_type": "markdown",
   "id": "steady-greeting",
   "metadata": {},
   "source": [
    "### long string - 1-char word - 1 option - stackoverflow"
   ]
  },
  {
   "cell_type": "markdown",
   "id": "processed-sapphire",
   "metadata": {},
   "source": [
    "assume count for 1 word is 1"
   ]
  },
  {
   "cell_type": "code",
   "execution_count": 72,
   "id": "rural-canvas",
   "metadata": {},
   "outputs": [
    {
     "name": "stderr",
     "output_type": "stream",
     "text": [
      "duration 0.005039118000013332\n"
     ]
    },
    {
     "name": "stdout",
     "output_type": "stream",
     "text": [
      "stats {'E': 300}\n",
      "length 300\n",
      "nb words 1\n",
      "nb encoded words 1\n",
      " count: 1\n"
     ]
    }
   ],
   "source": [
    "morse_sentence, stats, tokens = generate_random_morse_sentence(sentence_size, signs='E')\n",
    "print(f'stats {stats}')\n",
    "print(f'length {len(morse_sentence)}')\n",
    "words = ['E'] \n",
    "\n",
    "start = time.perf_counter() \n",
    "%prun res = count_runner(morse_sentence, words, verbose=verbose)\n",
    "##%lprun -f count_runner res = count_runner(morse_sentence, words, verbose=verbose)\n",
    "stop = time.perf_counter()\n",
    "print(f\"duration {stop-start}\", file=sys.stderr, flush=True)\n",
    "\n",
    "print(f'count: {res}')\n",
    "\n",
    "assert res == 1"
   ]
  },
  {
   "cell_type": "markdown",
   "id": "dominican-mumbai",
   "metadata": {},
   "source": [
    "### long string - 2 1-char words - multiple options - stackoverflow"
   ]
  },
  {
   "cell_type": "code",
   "execution_count": 73,
   "id": "dress-honor",
   "metadata": {},
   "outputs": [
    {
     "name": "stderr",
     "output_type": "stream",
     "text": [
      "duration 0.005379391999895233\n"
     ]
    },
    {
     "name": "stdout",
     "output_type": "stream",
     "text": [
      "stats {'E': 148, 'T': 152}\n",
      "length 300\n",
      "nb words 2\n",
      "nb encoded words 2\n",
      " count: 1\n"
     ]
    }
   ],
   "source": [
    "import sys\n",
    "morse_sentence, stats, tokens = generate_random_morse_sentence(sentence_size, signs='ET')\n",
    "print(f'stats {stats}')\n",
    "print(f'length {len(morse_sentence)}')\n",
    "words = ['E', 'T'] \n",
    "\n",
    "start = time.perf_counter()\n",
    "%prun res = count_runner(morse_sentence, words, verbose=verbose)\n",
    "stop = time.perf_counter()\n",
    "print(f\"duration {stop-start}\", file=sys.stderr, flush=True)\n",
    "\n",
    "print(f'count: {res}')\n",
    "\n",
    "assert res == 1"
   ]
  },
  {
   "cell_type": "code",
   "execution_count": null,
   "id": "legislative-flour",
   "metadata": {},
   "outputs": [],
   "source": []
  },
  {
   "cell_type": "markdown",
   "id": "ahead-farmer",
   "metadata": {},
   "source": [
    "### long string - few words - multiple options"
   ]
  },
  {
   "cell_type": "markdown",
   "id": "executed-isolation",
   "metadata": {},
   "source": [
    "issue = a large number of words ':' -> execeed recursion limit"
   ]
  },
  {
   "cell_type": "code",
   "execution_count": 74,
   "id": "aggressive-mistake",
   "metadata": {},
   "outputs": [
    {
     "name": "stderr",
     "output_type": "stream",
     "text": [
      "duration 0.002226986999858127\n"
     ]
    },
    {
     "name": "stdout",
     "output_type": "stream",
     "text": [
      "stats {'E': 300}\n",
      "length 300\n",
      "nb words 1\n",
      "nb words 1\n",
      "nb encoded words 1\n",
      " count: 1\n"
     ]
    }
   ],
   "source": [
    "morse_sentence, stats, tokens = generate_random_morse_sentence(sentence_size, signs='E', chunk_size=5)\n",
    "print(f'stats {stats}')\n",
    "print(f'length {len(morse_sentence)}')\n",
    "words = tokens\n",
    "print(f'nb words {len(words)}')\n",
    "\n",
    "start = time.perf_counter()\n",
    "%prun res = count_runner(morse_sentence, words, verbose=verbose)\n",
    "stop = time.perf_counter()\n",
    "print(f\"duration {stop-start}\", file=sys.stderr, flush=True)\n",
    "\n",
    "print(f'count: {res}')\n",
    "\n",
    "assert res >= 1 # 1 si multiple 2 ou 4 sinon"
   ]
  },
  {
   "cell_type": "markdown",
   "id": "quantitative-savannah",
   "metadata": {},
   "source": [
    "### long string - more words "
   ]
  },
  {
   "cell_type": "code",
   "execution_count": 75,
   "id": "split-state",
   "metadata": {},
   "outputs": [
    {
     "name": "stderr",
     "output_type": "stream",
     "text": [
      "total duration 0.013423241000054986\n"
     ]
    },
    {
     "name": "stdout",
     "output_type": "stream",
     "text": [
      "stats {'A': 11, 'B': 14, 'C': 19, 'D': 9, 'E': 13, 'F': 14, 'G': 12, 'H': 6, 'I': 13, 'J': 12, 'K': 8, 'L': 11, 'M': 13, 'N': 9, 'O': 14, 'P': 16, 'Q': 12, 'R': 8, 'S': 13, 'T': 6, 'U': 8, 'V': 16, 'W': 12, 'X': 5, 'Y': 11, 'Z': 15}\n",
      "length 967\n",
      "nb words 50\n",
      "nb words 50\n",
      "nb encoded words 50\n",
      " count: 1\n"
     ]
    }
   ],
   "source": [
    "morse_sentence, stats, tokens = generate_random_morse_sentence(sentence_size)\n",
    "print(f'stats {stats}')\n",
    "print(f'length {len(morse_sentence)}')\n",
    "words = tokens\n",
    "print(f'nb words {len(words)}')\n",
    "\n",
    "start = time.perf_counter()\n",
    "%prun res = count_runner(morse_sentence, words, verbose=verbose)\n",
    "stop = time.perf_counter()\n",
    "print(f\"total duration {stop-start}\", file=sys.stderr, flush=True)\n",
    "\n",
    "print(f'count: {res}')\n",
    "\n",
    "assert res >= 1"
   ]
  },
  {
   "cell_type": "markdown",
   "id": "miniature-lucas",
   "metadata": {},
   "source": [
    "### long string - few words "
   ]
  },
  {
   "cell_type": "code",
   "execution_count": 76,
   "id": "three-excuse",
   "metadata": {},
   "outputs": [
    {
     "name": "stderr",
     "output_type": "stream",
     "text": [
      "duration 0.004651267999861375\n"
     ]
    },
    {
     "name": "stdout",
     "output_type": "stream",
     "text": [
      "stats {'E': 148, 'T': 152}\n",
      "length 300\n",
      "nb words 37\n",
      "nb words 37\n",
      "nb encoded words 37\n",
      " count: 1\n"
     ]
    }
   ],
   "source": [
    "morse_sentence, stats, tokens = generate_random_morse_sentence(sentence_size, signs='ET')\n",
    "print(f'stats {stats}')\n",
    "print(f'length {len(morse_sentence)}')\n",
    "words = tokens\n",
    "print(f'nb words {len(words)}')\n",
    "\n",
    "start = time.perf_counter()\n",
    "%prun res = count_runner(morse_sentence, words, verbose=verbose)\n",
    "stop = time.perf_counter()\n",
    "print(f\"duration {stop-start}\", file=sys.stderr, flush=True)\n",
    "\n",
    "print(f'count: {res}')\n",
    "\n",
    "assert res >= 1"
   ]
  },
  {
   "cell_type": "markdown",
   "id": "oriented-genesis",
   "metadata": {},
   "source": [
    "### long sentence - lots of permutations"
   ]
  },
  {
   "cell_type": "code",
   "execution_count": null,
   "id": "based-justice",
   "metadata": {},
   "outputs": [
    {
     "name": "stdout",
     "output_type": "stream",
     "text": [
      "stats {'E': 78, 'I': 70, 'S': 81, 'H': 71}\n",
      "length 745\n",
      "nb words 50\n",
      "nb words 50\n",
      "nb encoded words 13\n"
     ]
    }
   ],
   "source": [
    "morse_sentence, stats, tokens = generate_random_morse_sentence(sentence_size, signs='EISH')\n",
    "print(f'stats {stats}')\n",
    "print(f'length {len(morse_sentence)}')\n",
    "words = tokens\n",
    "print(f'nb words {len(words)}')\n",
    "\n",
    "start = time.perf_counter()\n",
    "verbose = False\n",
    "%prun res = count_runner(morse_sentence, words, verbose=verbose)\n",
    "stop = time.perf_counter()\n",
    "print(f\"duration {stop-start}\", file=sys.stderr, flush=True)\n",
    "\n",
    "print(f'count: {res}')\n",
    "\n",
    "assert res >= 1"
   ]
  },
  {
   "cell_type": "markdown",
   "id": "structural-current",
   "metadata": {},
   "source": [
    "# -------------------------------------"
   ]
  },
  {
   "cell_type": "markdown",
   "id": "entertaining-advisory",
   "metadata": {},
   "source": [
    "## long sentence - with repeating pattern"
   ]
  },
  {
   "cell_type": "code",
   "execution_count": null,
   "id": "defensive-funeral",
   "metadata": {},
   "outputs": [],
   "source": [
    "morse_sentence = '.-.-.-.-.-.-.-.-' # ETETETETETETETET\n",
    "words = ['E', 'T'] \n",
    "\n",
    "start = time.perf_counter()\n",
    "res = count_runner(morse_sentence, words, verbose=True)\n",
    "stop = time.perf_counter()\n",
    "print(f\"duration {stop-start}\", file=sys.stderr, flush=True)\n",
    "\n",
    "print(f'count: {res}')\n",
    "\n",
    "assert res == 1 # HELLO WORLD, HELL OWORLD"
   ]
  },
  {
   "cell_type": "markdown",
   "id": "handy-regard",
   "metadata": {},
   "source": [
    "# -------------------------------------"
   ]
  },
  {
   "cell_type": "markdown",
   "id": "convenient-encoding",
   "metadata": {},
   "source": [
    "# many words"
   ]
  },
  {
   "cell_type": "code",
   "execution_count": null,
   "id": "forced-jumping",
   "metadata": {},
   "outputs": [],
   "source": [
    "import random\n",
    "def generate_words(nb, max_length=20, signs=None, seed=1234):\n",
    "    random.seed(seed)\n",
    "    words = []\n",
    "    \n",
    "    for i in range(nb):\n",
    "        current_token = []\n",
    "        size = random.randint(0, 4) + random.randint(0, max_length)\n",
    "\n",
    "        #if not signs: signs = list(alphabet_map.keys())\n",
    "        #max_sign = len(signs) -1\n",
    "        #for s in signs:\n",
    "        #    stats[s] = 0\n",
    "        for i in range(size):\n",
    "            letter = random.randint(0, 25)\n",
    "            current_token.append('ABCDEFGHIJKLMNOPQRSTUVWXYZ'[letter])\n",
    "            #stats[letter] += 1\n",
    "        words.append(''.join(current_token))\n",
    "         \n",
    "    return words"
   ]
  },
  {
   "cell_type": "code",
   "execution_count": null,
   "id": "psychological-think",
   "metadata": {},
   "outputs": [],
   "source": [
    "alphabet_map = morse.get_encoded_letters_map()\n",
    "nb = 10000\n",
    "\n",
    "start = time.perf_counter()\n",
    "words = generate_words(nb, seed=1234)\n",
    "stop = time.perf_counter()\n",
    "print(f\"duration {stop-start}\", file=sys.stderr, flush=True)\n",
    "\n",
    "assert len(words) == nb\n",
    "print(words[0])"
   ]
  },
  {
   "cell_type": "code",
   "execution_count": null,
   "id": "incoming-peter",
   "metadata": {},
   "outputs": [],
   "source": [
    "start = time.perf_counter()\n",
    "lengths = {w:len(w) for w in words}\n",
    "stop = time.perf_counter()\n",
    "print(f\"duration {stop-start}\", file=sys.stderr, flush=True)"
   ]
  },
  {
   "cell_type": "code",
   "execution_count": null,
   "id": "joined-rider",
   "metadata": {},
   "outputs": [],
   "source": [
    "start = time.perf_counter()\n",
    "for w in words:\n",
    "    n = lengths[w]\n",
    "stop = time.perf_counter()\n",
    "print(f\"duration {stop-start}\", file=sys.stderr, flush=True)"
   ]
  },
  {
   "cell_type": "code",
   "execution_count": null,
   "id": "regulated-addiction",
   "metadata": {},
   "outputs": [],
   "source": []
  }
 ],
 "metadata": {
  "kernelspec": {
   "display_name": "Python 3",
   "language": "python",
   "name": "python3"
  },
  "language_info": {
   "codemirror_mode": {
    "name": "ipython",
    "version": 3
   },
   "file_extension": ".py",
   "mimetype": "text/x-python",
   "name": "python",
   "nbconvert_exporter": "python",
   "pygments_lexer": "ipython3",
   "version": "3.8.5"
  }
 },
 "nbformat": 4,
 "nbformat_minor": 5
}
